{
 "cells": [
  {
   "cell_type": "code",
   "execution_count": 1,
   "metadata": {},
   "outputs": [
    {
     "data": {
      "text/html": [
       "<script>\n",
       "code_show=true; \n",
       "function code_toggle() {\n",
       " if (code_show){\n",
       " $('div.input').hide();\n",
       " } else {\n",
       " $('div.input').show();\n",
       " }\n",
       " code_show = !code_show\n",
       "} \n",
       "$( document ).ready(code_toggle);\n",
       "</script>\n",
       "<form action=\"javascript:code_toggle()\"><input type=\"submit\" value=\"Click here to toggle on/off the raw code.\"></form>"
      ],
      "text/plain": [
       "<IPython.core.display.HTML object>"
      ]
     },
     "execution_count": 1,
     "metadata": {},
     "output_type": "execute_result"
    }
   ],
   "source": [
    "from IPython.display import HTML\n",
    "\n",
    "HTML('''<script>\n",
    "code_show=true; \n",
    "function code_toggle() {\n",
    " if (code_show){\n",
    " $('div.input').hide();\n",
    " } else {\n",
    " $('div.input').show();\n",
    " }\n",
    " code_show = !code_show\n",
    "} \n",
    "$( document ).ready(code_toggle);\n",
    "</script>\n",
    "<form action=\"javascript:code_toggle()\"><input type=\"submit\" value=\"Click here to toggle on/off the raw code.\"></form>''')"
   ]
  },
  {
   "cell_type": "markdown",
   "metadata": {},
   "source": [
    "## Mark Six\n",
    "\n",
    "#### ToDo\n",
    "\n",
    "1. 最长连续出了多少期；\n",
    "2. 最长连续多少期没有出 - Done"
   ]
  },
  {
   "cell_type": "code",
   "execution_count": 3,
   "metadata": {},
   "outputs": [],
   "source": [
    "from __future__ import print_function\n",
    "from ipywidgets import interact, interactive, fixed, interact_manual\n",
    "import ipywidgets as widgets\n",
    "import os\n",
    "import sys\n",
    "import pandas as pd\n",
    "from datetime import datetime as dt\n",
    "import numpy as np\n",
    "import matplotlib.pyplot as plt\n",
    "import seaborn as sns\n",
    "pd.set_option(\"max_column\", 100)\n",
    "sns.set_style(\"whitegrid\")\n",
    "sns.set_palette(\"Blues_r\", 12)\n",
    "plt.rcParams['font.sans-serif']=['SimHei'] #用来正常显示中文标签\n",
    "import warnings\n",
    "warnings.filterwarnings(\"ignore\")\n",
    "import matplotlib\n",
    "# print(matplotlib.matplotlib_fname())\n",
    "%matplotlib inline\n",
    "# %pwd"
   ]
  },
  {
   "cell_type": "code",
   "execution_count": 7,
   "metadata": {},
   "outputs": [],
   "source": [
    "def read_data(year, file=\"data_00_18.xlsx\"):\n",
    "    df = pd.read_excel(file, sheet_name=str(year)).dropna().reset_index(drop=True)\n",
    "    try:\n",
    "        df.drop(\"总和单双\", axis=1, inplace=True)\n",
    "    except:\n",
    "        pass\n",
    "    df.期数 = [x[:-1] for x in df.期数.values]\n",
    "    df.特头 = [x[:-1] for x in df.特头.values]\n",
    "    df.尾数 = [x[:-1] for x in df.尾数.values]\n",
    "    df.合单双 = [x[-1] for x in df.合单双.values]\n",
    "    df.家野 = [x[:-1] for x in df.家野.values]\n",
    "    df.门数 = [x[:-1] for x in df.门数.values]\n",
    "    df.段位 = [x[:-1] for x in df.段位.values]\n",
    "    df.色肖 = [x[:-1] for x in df.色肖.values]\n",
    "    df.笔画 = [x[:-1] for x in df.笔画.values]\n",
    "    \n",
    "    return df"
   ]
  },
  {
   "cell_type": "code",
   "execution_count": 8,
   "metadata": {},
   "outputs": [],
   "source": [
    "for year in range(2018, 2000-1, -1):\n",
    "    if year == 2018:\n",
    "        df_now = read_data(year)\n",
    "    else:\n",
    "        df = read_data(year)\n",
    "        df_now = pd.concat([df_now, df])\n",
    "        \n",
    "df_now.reset_index(inplace=True, drop=True)\n",
    "\n",
    "# df_now.to_csv(\"data_00_18.csv\")\n",
    "# df_now.iloc[140:145, :]"
   ]
  },
  {
   "cell_type": "code",
   "execution_count": 20,
   "metadata": {},
   "outputs": [],
   "source": [
    "# df_now.to_csv(\"data_00_18.csv\")"
   ]
  },
  {
   "cell_type": "markdown",
   "metadata": {},
   "source": [
    "###   2000 - 2018年144期数据统计"
   ]
  },
  {
   "cell_type": "markdown",
   "metadata": {},
   "source": [
    "---"
   ]
  },
  {
   "cell_type": "code",
   "execution_count": 17,
   "metadata": {},
   "outputs": [
    {
     "name": "stdout",
     "output_type": "stream",
     "text": [
      "2000年至2018年最近期，一共开彩期数： 2710\n",
      "最近5期开彩情况：\n"
     ]
    },
    {
     "data": {
      "text/html": [
       "<div>\n",
       "<style scoped>\n",
       "    .dataframe tbody tr th:only-of-type {\n",
       "        vertical-align: middle;\n",
       "    }\n",
       "\n",
       "    .dataframe tbody tr th {\n",
       "        vertical-align: top;\n",
       "    }\n",
       "\n",
       "    .dataframe thead th {\n",
       "        text-align: right;\n",
       "    }\n",
       "</style>\n",
       "<table border=\"1\" class=\"dataframe\">\n",
       "  <thead>\n",
       "    <tr style=\"text-align: right;\">\n",
       "      <th></th>\n",
       "      <th>搅珠日期</th>\n",
       "      <th>期数</th>\n",
       "      <th>特码</th>\n",
       "      <th>生肖</th>\n",
       "      <th>单双</th>\n",
       "      <th>波色</th>\n",
       "      <th>大小</th>\n",
       "      <th>五行</th>\n",
       "      <th>特头</th>\n",
       "      <th>尾数</th>\n",
       "      <th>合单双</th>\n",
       "      <th>家野</th>\n",
       "      <th>门数</th>\n",
       "      <th>段位</th>\n",
       "      <th>阴阳</th>\n",
       "      <th>天地</th>\n",
       "      <th>吉凶</th>\n",
       "      <th>黑白</th>\n",
       "      <th>色肖</th>\n",
       "      <th>笔画</th>\n",
       "      <th>男女</th>\n",
       "    </tr>\n",
       "  </thead>\n",
       "  <tbody>\n",
       "    <tr>\n",
       "      <th>0</th>\n",
       "      <td>2018-12-18</td>\n",
       "      <td>144</td>\n",
       "      <td>45.0</td>\n",
       "      <td>虎</td>\n",
       "      <td>单</td>\n",
       "      <td>红</td>\n",
       "      <td>大</td>\n",
       "      <td>水</td>\n",
       "      <td>4</td>\n",
       "      <td>5</td>\n",
       "      <td>单</td>\n",
       "      <td>野</td>\n",
       "      <td>5</td>\n",
       "      <td>7</td>\n",
       "      <td>阳</td>\n",
       "      <td>地</td>\n",
       "      <td>凶</td>\n",
       "      <td>黑</td>\n",
       "      <td>蓝</td>\n",
       "      <td>双</td>\n",
       "      <td>男</td>\n",
       "    </tr>\n",
       "    <tr>\n",
       "      <th>1</th>\n",
       "      <td>2018-12-15</td>\n",
       "      <td>143</td>\n",
       "      <td>22.0</td>\n",
       "      <td>牛</td>\n",
       "      <td>双</td>\n",
       "      <td>绿</td>\n",
       "      <td>小</td>\n",
       "      <td>水</td>\n",
       "      <td>2</td>\n",
       "      <td>2</td>\n",
       "      <td>双</td>\n",
       "      <td>家</td>\n",
       "      <td>3</td>\n",
       "      <td>4</td>\n",
       "      <td>阳</td>\n",
       "      <td>天</td>\n",
       "      <td>凶</td>\n",
       "      <td>黑</td>\n",
       "      <td>绿</td>\n",
       "      <td>双</td>\n",
       "      <td>男</td>\n",
       "    </tr>\n",
       "    <tr>\n",
       "      <th>2</th>\n",
       "      <td>2018-12-13</td>\n",
       "      <td>142</td>\n",
       "      <td>39.0</td>\n",
       "      <td>猴</td>\n",
       "      <td>单</td>\n",
       "      <td>绿</td>\n",
       "      <td>大</td>\n",
       "      <td>木</td>\n",
       "      <td>3</td>\n",
       "      <td>9</td>\n",
       "      <td>双</td>\n",
       "      <td>野</td>\n",
       "      <td>5</td>\n",
       "      <td>6</td>\n",
       "      <td>阳</td>\n",
       "      <td>天</td>\n",
       "      <td>凶</td>\n",
       "      <td>白</td>\n",
       "      <td>蓝</td>\n",
       "      <td>双</td>\n",
       "      <td>男</td>\n",
       "    </tr>\n",
       "    <tr>\n",
       "      <th>3</th>\n",
       "      <td>2018-12-11</td>\n",
       "      <td>141</td>\n",
       "      <td>22.0</td>\n",
       "      <td>牛</td>\n",
       "      <td>双</td>\n",
       "      <td>绿</td>\n",
       "      <td>小</td>\n",
       "      <td>水</td>\n",
       "      <td>2</td>\n",
       "      <td>2</td>\n",
       "      <td>双</td>\n",
       "      <td>家</td>\n",
       "      <td>3</td>\n",
       "      <td>4</td>\n",
       "      <td>阳</td>\n",
       "      <td>天</td>\n",
       "      <td>凶</td>\n",
       "      <td>黑</td>\n",
       "      <td>绿</td>\n",
       "      <td>双</td>\n",
       "      <td>男</td>\n",
       "    </tr>\n",
       "    <tr>\n",
       "      <th>4</th>\n",
       "      <td>2018-12-08</td>\n",
       "      <td>140</td>\n",
       "      <td>43.0</td>\n",
       "      <td>龙</td>\n",
       "      <td>单</td>\n",
       "      <td>绿</td>\n",
       "      <td>大</td>\n",
       "      <td>土</td>\n",
       "      <td>4</td>\n",
       "      <td>3</td>\n",
       "      <td>单</td>\n",
       "      <td>野</td>\n",
       "      <td>5</td>\n",
       "      <td>7</td>\n",
       "      <td>阴</td>\n",
       "      <td>天</td>\n",
       "      <td>吉</td>\n",
       "      <td>白</td>\n",
       "      <td>绿</td>\n",
       "      <td>单</td>\n",
       "      <td>男</td>\n",
       "    </tr>\n",
       "  </tbody>\n",
       "</table>\n",
       "</div>"
      ],
      "text/plain": [
       "        搅珠日期   期数    特码 生肖 单双 波色 大小 五行  特头  尾数 合单双 家野  门数  段位 阴阳 天地 吉凶 黑白 色肖  \\\n",
       "0 2018-12-18  144  45.0  虎  单  红  大  水   4   5   单  野   5   7  阳  地  凶  黑  蓝   \n",
       "1 2018-12-15  143  22.0  牛  双  绿  小  水   2   2   双  家   3   4  阳  天  凶  黑  绿   \n",
       "2 2018-12-13  142  39.0  猴  单  绿  大  木   3   9   双  野   5   6  阳  天  凶  白  蓝   \n",
       "3 2018-12-11  141  22.0  牛  双  绿  小  水   2   2   双  家   3   4  阳  天  凶  黑  绿   \n",
       "4 2018-12-08  140  43.0  龙  单  绿  大  土   4   3   单  野   5   7  阴  天  吉  白  绿   \n",
       "\n",
       "  笔画 男女  \n",
       "0  双  男  \n",
       "1  双  男  \n",
       "2  双  男  \n",
       "3  双  男  \n",
       "4  单  男  "
      ]
     },
     "execution_count": 17,
     "metadata": {},
     "output_type": "execute_result"
    }
   ],
   "source": [
    "df_now = pd.read_csv(\"data_00_18.csv\").loc[:, \"搅珠日期\":]\n",
    "df_now.搅珠日期 = pd.to_datetime(df_now.搅珠日期)\n",
    "df_now.特码.astype(int)\n",
    "print(\"2000年至2018年最近期，一共开彩期数：\", df_now.shape[0])\n",
    "print(\"最近5期开彩情况：\")\n",
    "df_now.head()"
   ]
  },
  {
   "cell_type": "code",
   "execution_count": 21,
   "metadata": {},
   "outputs": [],
   "source": [
    "def total_no_shows(cat, item):\n",
    "    cat_list = df_now[cat].values.tolist()\n",
    "    \n",
    "    cnt = 0\n",
    "    cnt_list = []\n",
    "    \n",
    "    for i in cat_list:\n",
    "#         print(i, end=\", \")\n",
    "        if i == item:\n",
    "            cnt_list.append(cnt+1)\n",
    "            cnt = 0\n",
    "        else:\n",
    "            cnt += 1\n",
    "    print(item)        \n",
    "    return sorted(cnt_list, reverse=True)[:29]"
   ]
  },
  {
   "cell_type": "code",
   "execution_count": 22,
   "metadata": {},
   "outputs": [
    {
     "name": "stdout",
     "output_type": "stream",
     "text": [
      "2000首期～2018年143期：【生肖】连续不出现次数一览\n",
      "鼠\n",
      "[55, 50, 43, 42, 42, 40, 40, 39, 35, 35, 34, 32, 31, 31, 30, 30, 30, 30, 30, 29, 29, 29, 27, 26, 25, 25, 25, 24, 24]\n",
      "牛\n",
      "[117, 67, 62, 61, 61, 59, 53, 50, 43, 43, 41, 38, 37, 35, 34, 34, 32, 31, 30, 30, 29, 28, 28, 27, 27, 27, 27, 26, 25]\n",
      "虎\n",
      "[70, 61, 52, 47, 43, 42, 40, 39, 38, 35, 34, 33, 32, 32, 31, 29, 29, 28, 27, 27, 25, 25, 25, 24, 24, 23, 23, 22, 22]\n",
      "兔\n",
      "[52, 51, 45, 45, 43, 41, 40, 40, 38, 36, 35, 33, 31, 31, 30, 30, 29, 29, 27, 26, 25, 25, 25, 24, 24, 24, 23, 23, 22]\n",
      "龙\n",
      "[62, 51, 47, 47, 44, 40, 40, 39, 38, 38, 37, 37, 35, 33, 33, 32, 32, 32, 32, 29, 29, 27, 26, 26, 26, 26, 26, 25, 24]\n",
      "蛇\n",
      "[102, 70, 46, 46, 44, 44, 42, 41, 41, 40, 39, 38, 38, 37, 37, 35, 35, 34, 34, 33, 29, 28, 27, 27, 27, 23, 23, 23, 23]\n",
      "马\n",
      "[58, 55, 48, 42, 40, 40, 40, 40, 38, 38, 36, 35, 35, 35, 34, 34, 33, 31, 31, 31, 30, 28, 28, 28, 28, 27, 24, 24, 24]\n",
      "羊\n",
      "[53, 50, 46, 41, 41, 41, 40, 37, 37, 37, 35, 34, 33, 33, 32, 32, 31, 31, 31, 31, 30, 29, 29, 29, 28, 27, 26, 25, 24]\n",
      "猴\n",
      "[75, 60, 56, 54, 54, 41, 40, 38, 38, 34, 34, 32, 30, 29, 29, 28, 28, 27, 26, 26, 25, 24, 24, 24, 24, 23, 23, 23, 23]\n",
      "鸡\n",
      "[52, 51, 50, 49, 46, 46, 45, 44, 39, 39, 39, 36, 35, 33, 32, 32, 31, 31, 30, 29, 29, 28, 28, 28, 28, 27, 27, 26, 26]\n",
      "狗\n",
      "[57, 53, 50, 49, 49, 46, 45, 43, 43, 42, 41, 41, 38, 38, 37, 35, 34, 34, 33, 30, 29, 28, 27, 27, 27, 27, 27, 25, 25]\n",
      "猪\n",
      "[76, 70, 65, 55, 53, 47, 46, 44, 44, 43, 41, 40, 37, 35, 32, 31, 31, 30, 30, 29, 29, 28, 27, 27, 27, 27, 26, 26, 26]\n"
     ]
    }
   ],
   "source": [
    "print(\"2000首期～2018年143期：【生肖】连续不出现次数一览\")\n",
    "print(total_no_shows(\"生肖\", \"鼠\"))\n",
    "print(total_no_shows(\"生肖\", \"牛\"))\n",
    "print(total_no_shows(\"生肖\", \"虎\"))\n",
    "print(total_no_shows(\"生肖\", \"兔\"))\n",
    "print(total_no_shows(\"生肖\", \"龙\"))\n",
    "print(total_no_shows(\"生肖\", \"蛇\"))\n",
    "print(total_no_shows(\"生肖\", \"马\"))\n",
    "print(total_no_shows(\"生肖\", \"羊\"))\n",
    "print(total_no_shows(\"生肖\", \"猴\"))\n",
    "print(total_no_shows(\"生肖\", \"鸡\"))\n",
    "print(total_no_shows(\"生肖\", \"狗\"))\n",
    "print(total_no_shows(\"生肖\", \"猪\"))"
   ]
  },
  {
   "cell_type": "markdown",
   "metadata": {},
   "source": [
    "##### 2018年"
   ]
  },
  {
   "cell_type": "code",
   "execution_count": 19,
   "metadata": {},
   "outputs": [
    {
     "name": "stdout",
     "output_type": "stream",
     "text": [
      "2018年共开彩次数： 144\n"
     ]
    }
   ],
   "source": [
    "df = df_now[df_now.搅珠日期 >= pd.Timestamp(2018,1,1)]\n",
    "print(\"2018年共开彩次数：\", df.shape[0])"
   ]
  },
  {
   "cell_type": "code",
   "execution_count": 23,
   "metadata": {},
   "outputs": [],
   "source": [
    "def no_shows_dict(cat):\n",
    "    \"\"\"\n",
    "    \n",
    "    \"\"\"\n",
    "    item_unique = df[cat].unique().tolist()\n",
    "    item_dict = {}\n",
    "    for item in item_unique:\n",
    "        item_dict[item] = df.loc[df[cat] == item].index[0]\n",
    "    item_dict = sorted(item_dict.items(), key = lambda x:x[1], reverse = True)\n",
    "    print(cat)\n",
    "    return item_dict"
   ]
  },
  {
   "cell_type": "code",
   "execution_count": 24,
   "metadata": {},
   "outputs": [
    {
     "name": "stdout",
     "output_type": "stream",
     "text": [
      "2018年度截止143期，没出现的次数一览\n",
      "生肖\n",
      "[('蛇', 36), ('羊', 33), ('狗', 26), ('猪', 18), ('马', 15), ('鸡', 12), ('兔', 10), ('鼠', 7), ('龙', 4), ('猴', 2), ('牛', 1), ('虎', 0)]\n",
      "单双\n",
      "[('双', 1), ('单', 0)]\n",
      "波色\n",
      "[('蓝', 7), ('绿', 1), ('红', 0)]\n",
      "大小\n",
      "[('小', 1), ('大', 0)]\n",
      "五行\n",
      "[('火', 10), ('金', 5), ('土', 4), ('木', 2), ('水', 0)]\n",
      "特头\n",
      "[(0, 16), (1, 6), (3, 2), (2, 1), (4, 0)]\n",
      "尾数\n",
      "[(0, 36), (1, 23), (6, 19), (8, 12), (7, 7), (4, 5), (3, 4), (9, 2), (2, 1), (5, 0)]\n",
      "合单双\n",
      "[('双', 1), ('单', 0)]\n",
      "家野\n",
      "[('家', 1), ('野', 0)]\n",
      "门数\n",
      "[(2, 17), (1, 16), (4, 5), (3, 1), (5, 0)]\n",
      "段位\n",
      "[(1, 25), (2, 16), (3, 6), (5, 5), (6, 2), (4, 1), (7, 0)]\n",
      "阴阳\n",
      "[('阴', 4), ('阳', 0)]\n",
      "天地\n",
      "[('天', 1), ('地', 0)]\n",
      "吉凶\n",
      "[('吉', 4), ('凶', 0)]\n",
      "黑白\n",
      "[('白', 2), ('黑', 0)]\n",
      "色肖\n",
      "[('红', 7), ('绿', 1), ('蓝', 0)]\n",
      "笔画\n",
      "[('单', 4), ('双', 0)]\n",
      "男女\n",
      "[('女', 10), ('男', 0)]\n"
     ]
    }
   ],
   "source": [
    "print(\"2018年度截止143期，没出现的次数一览\")\n",
    "print(no_shows_dict(\"生肖\"))\n",
    "print(no_shows_dict(\"单双\"))\n",
    "print(no_shows_dict(\"波色\"))\n",
    "print(no_shows_dict(\"大小\"))\n",
    "print(no_shows_dict(\"五行\"))\n",
    "print(no_shows_dict(\"特头\"))\n",
    "print(no_shows_dict(\"尾数\"))\n",
    "print(no_shows_dict(\"合单双\"))\n",
    "print(no_shows_dict(\"家野\"))\n",
    "print(no_shows_dict(\"门数\"))\n",
    "print(no_shows_dict(\"段位\"))\n",
    "print(no_shows_dict(\"阴阳\"))\n",
    "print(no_shows_dict(\"天地\"))\n",
    "print(no_shows_dict(\"吉凶\"))\n",
    "print(no_shows_dict(\"黑白\"))\n",
    "print(no_shows_dict(\"色肖\"))\n",
    "print(no_shows_dict(\"笔画\"))\n",
    "print(no_shows_dict(\"男女\"))"
   ]
  },
  {
   "cell_type": "code",
   "execution_count": 25,
   "metadata": {},
   "outputs": [
    {
     "data": {
      "application/vnd.jupyter.widget-view+json": {
       "model_id": "012766b049054f5282f685d592fc796d",
       "version_major": 2,
       "version_minor": 0
      },
      "text/plain": [
       "interactive(children=(Dropdown(description='x', options=('生肖', '单双', '波色', '大小', '五行', '特头', '尾数', '合单双', '家野'…"
      ]
     },
     "metadata": {},
     "output_type": "display_data"
    }
   ],
   "source": [
    "def stats_func(x):\n",
    "    \"https://stackoverflow.com/questions/28931224/adding-value-labels-on-a-matplotlib-bar-chart\"\n",
    "    cnt = df[x].value_counts()\n",
    "    fig = plt.figure(figsize=(10, 3))\n",
    "    ax = cnt.plot(kind='bar')\n",
    "    \n",
    "    rects = ax.patches\n",
    "    labels = [\"{}\".format(i) for i in cnt.values.tolist()]\n",
    "    for rect, label in zip(rects, labels):\n",
    "        height = rect.get_height()\n",
    "        ax.text(rect.get_x() + rect.get_width() / 2, height + .5, label,\n",
    "                ha='center', va='bottom', fontsize=12)\n",
    "        \n",
    "    ax.set_xlabel(x)\n",
    "    plt.xticks(rotation=0, fontsize=12)\n",
    "    plt.yticks([])\n",
    "\n",
    "    fig.show()\n",
    "\n",
    "interact(stats_func, x=df.columns[3:].tolist());"
   ]
  },
  {
   "cell_type": "code",
   "execution_count": null,
   "metadata": {},
   "outputs": [],
   "source": []
  }
 ],
 "metadata": {
  "kernelspec": {
   "display_name": "Python [Root]",
   "language": "python",
   "name": "Python [Root]"
  },
  "language_info": {
   "codemirror_mode": {
    "name": "ipython",
    "version": 3
   },
   "file_extension": ".py",
   "mimetype": "text/x-python",
   "name": "python",
   "nbconvert_exporter": "python",
   "pygments_lexer": "ipython3",
   "version": "3.5.6"
  }
 },
 "nbformat": 4,
 "nbformat_minor": 2
}
