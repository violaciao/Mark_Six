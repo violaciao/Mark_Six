{
 "cells": [
  {
   "cell_type": "markdown",
   "metadata": {},
   "source": [
    "ToDo\n",
    "\n",
    "1. 最长连续出了多少期；\n",
    "2. 最长连续多少期没有出."
   ]
  },
  {
   "cell_type": "code",
   "execution_count": 1,
   "metadata": {
    "collapsed": false
   },
   "outputs": [],
   "source": [
    "from __future__ import print_function\n",
    "from ipywidgets import interact, interactive, fixed, interact_manual\n",
    "import ipywidgets as widgets\n",
    "import os\n",
    "import sys\n",
    "import pandas as pd\n",
    "from datetime import datetime as dt\n",
    "import numpy as np\n",
    "import matplotlib.pyplot as plt\n",
    "import seaborn as sns\n",
    "pd.set_option(\"max_column\", 100)\n",
    "sns.set_style(\"whitegrid\")\n",
    "sns.set_palette(\"Blues_r\", 12)\n",
    "plt.rcParams['font.sans-serif']=['SimHei'] #用来正常显示中文标签\n",
    "import warnings\n",
    "warnings.filterwarnings(\"ignore\")\n",
    "import matplotlib\n",
    "# print(matplotlib.matplotlib_fname())\n",
    "%matplotlib inline\n",
    "# %pwd"
   ]
  },
  {
   "cell_type": "code",
   "execution_count": 2,
   "metadata": {
    "collapsed": false
   },
   "outputs": [],
   "source": [
    "def read_data(year, file=\"data_00_18.xlsx\"):\n",
    "    df = pd.read_excel(file, sheet_name=str(year)).dropna().reset_index(drop=True)\n",
    "    try:\n",
    "        df.drop(\"总和单双\", axis=1, inplace=True)\n",
    "    except:\n",
    "        pass\n",
    "    df.期数 = [x[:-1] for x in df.期数.values]\n",
    "    df.特头 = [x[:-1] for x in df.特头.values]\n",
    "    df.尾数 = [x[:-1] for x in df.尾数.values]\n",
    "    df.合单双 = [x[-1] for x in df.合单双.values]\n",
    "    df.家野 = [x[:-1] for x in df.家野.values]\n",
    "    df.门数 = [x[:-1] for x in df.门数.values]\n",
    "    df.段位 = [x[:-1] for x in df.段位.values]\n",
    "    df.色肖 = [x[:-1] for x in df.色肖.values]\n",
    "    df.笔画 = [x[:-1] for x in df.笔画.values]\n",
    "    \n",
    "    return df"
   ]
  },
  {
   "cell_type": "code",
   "execution_count": 3,
   "metadata": {
    "collapsed": false
   },
   "outputs": [],
   "source": [
    "for year in range(2018, 2000-1, -1):\n",
    "    if year == 2018:\n",
    "        df_now = read_data(year)\n",
    "    else:\n",
    "        df = read_data(year)\n",
    "        df_now = pd.concat([df_now, df])\n",
    "        \n",
    "df_now.reset_index(inplace=True, drop=True)"
   ]
  },
  {
   "cell_type": "code",
   "execution_count": 4,
   "metadata": {
    "collapsed": false
   },
   "outputs": [
    {
     "data": {
      "text/html": [
       "<div>\n",
       "<style scoped>\n",
       "    .dataframe tbody tr th:only-of-type {\n",
       "        vertical-align: middle;\n",
       "    }\n",
       "\n",
       "    .dataframe tbody tr th {\n",
       "        vertical-align: top;\n",
       "    }\n",
       "\n",
       "    .dataframe thead th {\n",
       "        text-align: right;\n",
       "    }\n",
       "</style>\n",
       "<table border=\"1\" class=\"dataframe\">\n",
       "  <thead>\n",
       "    <tr style=\"text-align: right;\">\n",
       "      <th></th>\n",
       "      <th>搅珠日期</th>\n",
       "      <th>期数</th>\n",
       "      <th>特码</th>\n",
       "      <th>生肖</th>\n",
       "      <th>单双</th>\n",
       "      <th>波色</th>\n",
       "      <th>大小</th>\n",
       "      <th>五行</th>\n",
       "      <th>特头</th>\n",
       "      <th>尾数</th>\n",
       "      <th>合单双</th>\n",
       "      <th>家野</th>\n",
       "      <th>门数</th>\n",
       "      <th>段位</th>\n",
       "      <th>阴阳</th>\n",
       "      <th>天地</th>\n",
       "      <th>吉凶</th>\n",
       "      <th>黑白</th>\n",
       "      <th>色肖</th>\n",
       "      <th>笔画</th>\n",
       "      <th>男女</th>\n",
       "    </tr>\n",
       "  </thead>\n",
       "  <tbody>\n",
       "    <tr>\n",
       "      <th>140</th>\n",
       "      <td>2018-01-11</td>\n",
       "      <td>003</td>\n",
       "      <td>19</td>\n",
       "      <td>兔</td>\n",
       "      <td>单</td>\n",
       "      <td>红</td>\n",
       "      <td>小</td>\n",
       "      <td>土</td>\n",
       "      <td>1</td>\n",
       "      <td>9</td>\n",
       "      <td>双</td>\n",
       "      <td>野</td>\n",
       "      <td>3</td>\n",
       "      <td>3</td>\n",
       "      <td>阳</td>\n",
       "      <td>天</td>\n",
       "      <td>吉</td>\n",
       "      <td>白</td>\n",
       "      <td>红</td>\n",
       "      <td>双</td>\n",
       "      <td>女</td>\n",
       "    </tr>\n",
       "    <tr>\n",
       "      <th>141</th>\n",
       "      <td>2018-01-06</td>\n",
       "      <td>002</td>\n",
       "      <td>23</td>\n",
       "      <td>猪</td>\n",
       "      <td>单</td>\n",
       "      <td>红</td>\n",
       "      <td>小</td>\n",
       "      <td>火</td>\n",
       "      <td>2</td>\n",
       "      <td>3</td>\n",
       "      <td>单</td>\n",
       "      <td>家</td>\n",
       "      <td>3</td>\n",
       "      <td>4</td>\n",
       "      <td>阴</td>\n",
       "      <td>天</td>\n",
       "      <td>凶</td>\n",
       "      <td>白</td>\n",
       "      <td>蓝</td>\n",
       "      <td>单</td>\n",
       "      <td>女</td>\n",
       "    </tr>\n",
       "    <tr>\n",
       "      <th>142</th>\n",
       "      <td>2018-01-02</td>\n",
       "      <td>001</td>\n",
       "      <td>36</td>\n",
       "      <td>狗</td>\n",
       "      <td>双</td>\n",
       "      <td>蓝</td>\n",
       "      <td>大</td>\n",
       "      <td>水</td>\n",
       "      <td>3</td>\n",
       "      <td>6</td>\n",
       "      <td>单</td>\n",
       "      <td>家</td>\n",
       "      <td>4</td>\n",
       "      <td>6</td>\n",
       "      <td>阴</td>\n",
       "      <td>地</td>\n",
       "      <td>凶</td>\n",
       "      <td>白</td>\n",
       "      <td>绿</td>\n",
       "      <td>双</td>\n",
       "      <td>男</td>\n",
       "    </tr>\n",
       "    <tr>\n",
       "      <th>143</th>\n",
       "      <td>2017-12-30</td>\n",
       "      <td>153</td>\n",
       "      <td>37</td>\n",
       "      <td>鸡</td>\n",
       "      <td>单</td>\n",
       "      <td>蓝</td>\n",
       "      <td>大</td>\n",
       "      <td>木</td>\n",
       "      <td>3</td>\n",
       "      <td>7</td>\n",
       "      <td>双</td>\n",
       "      <td>家</td>\n",
       "      <td>4</td>\n",
       "      <td>6</td>\n",
       "      <td>阳</td>\n",
       "      <td>地</td>\n",
       "      <td>吉</td>\n",
       "      <td>黑</td>\n",
       "      <td>红</td>\n",
       "      <td>单</td>\n",
       "      <td>女</td>\n",
       "    </tr>\n",
       "    <tr>\n",
       "      <th>144</th>\n",
       "      <td>2017-12-28</td>\n",
       "      <td>152</td>\n",
       "      <td>11</td>\n",
       "      <td>猪</td>\n",
       "      <td>单</td>\n",
       "      <td>绿</td>\n",
       "      <td>小</td>\n",
       "      <td>土</td>\n",
       "      <td>1</td>\n",
       "      <td>1</td>\n",
       "      <td>双</td>\n",
       "      <td>家</td>\n",
       "      <td>2</td>\n",
       "      <td>2</td>\n",
       "      <td>阴</td>\n",
       "      <td>天</td>\n",
       "      <td>凶</td>\n",
       "      <td>白</td>\n",
       "      <td>蓝</td>\n",
       "      <td>单</td>\n",
       "      <td>女</td>\n",
       "    </tr>\n",
       "  </tbody>\n",
       "</table>\n",
       "</div>"
      ],
      "text/plain": [
       "          搅珠日期   期数  特码 生肖 单双 波色 大小 五行 特头 尾数 合单双 家野 门数 段位 阴阳 天地 吉凶 黑白 色肖 笔画 男女\n",
       "140 2018-01-11  003  19  兔  单  红  小  土  1  9   双  野  3  3  阳  天  吉  白  红  双  女\n",
       "141 2018-01-06  002  23  猪  单  红  小  火  2  3   单  家  3  4  阴  天  凶  白  蓝  单  女\n",
       "142 2018-01-02  001  36  狗  双  蓝  大  水  3  6   单  家  4  6  阴  地  凶  白  绿  双  男\n",
       "143 2017-12-30  153  37  鸡  单  蓝  大  木  3  7   双  家  4  6  阳  地  吉  黑  红  单  女\n",
       "144 2017-12-28  152  11  猪  单  绿  小  土  1  1   双  家  2  2  阴  天  凶  白  蓝  单  女"
      ]
     },
     "execution_count": 4,
     "metadata": {},
     "output_type": "execute_result"
    }
   ],
   "source": [
    "df_now.to_csv(\"data_00_18.csv\")\n",
    "df_now.iloc[140:145, :]"
   ]
  },
  {
   "cell_type": "code",
   "execution_count": 5,
   "metadata": {
    "collapsed": false
   },
   "outputs": [
    {
     "data": {
      "text/plain": [
       "(2709, 21)"
      ]
     },
     "execution_count": 5,
     "metadata": {},
     "output_type": "execute_result"
    }
   ],
   "source": [
    "df_now.shape"
   ]
  },
  {
   "cell_type": "markdown",
   "metadata": {},
   "source": [
    "---"
   ]
  },
  {
   "cell_type": "markdown",
   "metadata": {},
   "source": [
    "###   以上已将数据处理完毕，从此处开始分析"
   ]
  },
  {
   "cell_type": "code",
   "execution_count": 8,
   "metadata": {
    "collapsed": false
   },
   "outputs": [
    {
     "name": "stdout",
     "output_type": "stream",
     "text": [
      "(2709, 21)\n"
     ]
    },
    {
     "data": {
      "text/html": [
       "<div>\n",
       "<style scoped>\n",
       "    .dataframe tbody tr th:only-of-type {\n",
       "        vertical-align: middle;\n",
       "    }\n",
       "\n",
       "    .dataframe tbody tr th {\n",
       "        vertical-align: top;\n",
       "    }\n",
       "\n",
       "    .dataframe thead th {\n",
       "        text-align: right;\n",
       "    }\n",
       "</style>\n",
       "<table border=\"1\" class=\"dataframe\">\n",
       "  <thead>\n",
       "    <tr style=\"text-align: right;\">\n",
       "      <th></th>\n",
       "      <th>搅珠日期</th>\n",
       "      <th>期数</th>\n",
       "      <th>特码</th>\n",
       "      <th>生肖</th>\n",
       "      <th>单双</th>\n",
       "      <th>波色</th>\n",
       "      <th>大小</th>\n",
       "      <th>五行</th>\n",
       "      <th>特头</th>\n",
       "      <th>尾数</th>\n",
       "      <th>合单双</th>\n",
       "      <th>家野</th>\n",
       "      <th>门数</th>\n",
       "      <th>段位</th>\n",
       "      <th>阴阳</th>\n",
       "      <th>天地</th>\n",
       "      <th>吉凶</th>\n",
       "      <th>黑白</th>\n",
       "      <th>色肖</th>\n",
       "      <th>笔画</th>\n",
       "      <th>男女</th>\n",
       "    </tr>\n",
       "  </thead>\n",
       "  <tbody>\n",
       "    <tr>\n",
       "      <th>0</th>\n",
       "      <td>2018-12-15</td>\n",
       "      <td>143</td>\n",
       "      <td>22.0</td>\n",
       "      <td>牛</td>\n",
       "      <td>双</td>\n",
       "      <td>绿</td>\n",
       "      <td>小</td>\n",
       "      <td>水</td>\n",
       "      <td>2</td>\n",
       "      <td>2</td>\n",
       "      <td>双</td>\n",
       "      <td>家</td>\n",
       "      <td>3</td>\n",
       "      <td>4</td>\n",
       "      <td>阳</td>\n",
       "      <td>天</td>\n",
       "      <td>凶</td>\n",
       "      <td>黑</td>\n",
       "      <td>绿</td>\n",
       "      <td>双</td>\n",
       "      <td>男</td>\n",
       "    </tr>\n",
       "    <tr>\n",
       "      <th>1</th>\n",
       "      <td>2018-12-13</td>\n",
       "      <td>142</td>\n",
       "      <td>39.0</td>\n",
       "      <td>猴</td>\n",
       "      <td>单</td>\n",
       "      <td>绿</td>\n",
       "      <td>大</td>\n",
       "      <td>木</td>\n",
       "      <td>3</td>\n",
       "      <td>9</td>\n",
       "      <td>双</td>\n",
       "      <td>野</td>\n",
       "      <td>5</td>\n",
       "      <td>6</td>\n",
       "      <td>阳</td>\n",
       "      <td>天</td>\n",
       "      <td>凶</td>\n",
       "      <td>白</td>\n",
       "      <td>蓝</td>\n",
       "      <td>双</td>\n",
       "      <td>男</td>\n",
       "    </tr>\n",
       "    <tr>\n",
       "      <th>2</th>\n",
       "      <td>2018-12-11</td>\n",
       "      <td>141</td>\n",
       "      <td>22.0</td>\n",
       "      <td>牛</td>\n",
       "      <td>双</td>\n",
       "      <td>绿</td>\n",
       "      <td>小</td>\n",
       "      <td>水</td>\n",
       "      <td>2</td>\n",
       "      <td>2</td>\n",
       "      <td>双</td>\n",
       "      <td>家</td>\n",
       "      <td>3</td>\n",
       "      <td>4</td>\n",
       "      <td>阳</td>\n",
       "      <td>天</td>\n",
       "      <td>凶</td>\n",
       "      <td>黑</td>\n",
       "      <td>绿</td>\n",
       "      <td>双</td>\n",
       "      <td>男</td>\n",
       "    </tr>\n",
       "    <tr>\n",
       "      <th>3</th>\n",
       "      <td>2018-12-08</td>\n",
       "      <td>140</td>\n",
       "      <td>43.0</td>\n",
       "      <td>龙</td>\n",
       "      <td>单</td>\n",
       "      <td>绿</td>\n",
       "      <td>大</td>\n",
       "      <td>土</td>\n",
       "      <td>4</td>\n",
       "      <td>3</td>\n",
       "      <td>单</td>\n",
       "      <td>野</td>\n",
       "      <td>5</td>\n",
       "      <td>7</td>\n",
       "      <td>阴</td>\n",
       "      <td>天</td>\n",
       "      <td>吉</td>\n",
       "      <td>白</td>\n",
       "      <td>绿</td>\n",
       "      <td>单</td>\n",
       "      <td>男</td>\n",
       "    </tr>\n",
       "    <tr>\n",
       "      <th>4</th>\n",
       "      <td>2018-12-06</td>\n",
       "      <td>139</td>\n",
       "      <td>34.0</td>\n",
       "      <td>牛</td>\n",
       "      <td>双</td>\n",
       "      <td>红</td>\n",
       "      <td>大</td>\n",
       "      <td>金</td>\n",
       "      <td>3</td>\n",
       "      <td>4</td>\n",
       "      <td>单</td>\n",
       "      <td>家</td>\n",
       "      <td>4</td>\n",
       "      <td>5</td>\n",
       "      <td>阳</td>\n",
       "      <td>天</td>\n",
       "      <td>凶</td>\n",
       "      <td>黑</td>\n",
       "      <td>绿</td>\n",
       "      <td>双</td>\n",
       "      <td>男</td>\n",
       "    </tr>\n",
       "  </tbody>\n",
       "</table>\n",
       "</div>"
      ],
      "text/plain": [
       "        搅珠日期   期数    特码 生肖 单双 波色 大小 五行  特头  尾数 合单双 家野  门数  段位 阴阳 天地 吉凶 黑白 色肖  \\\n",
       "0 2018-12-15  143  22.0  牛  双  绿  小  水   2   2   双  家   3   4  阳  天  凶  黑  绿   \n",
       "1 2018-12-13  142  39.0  猴  单  绿  大  木   3   9   双  野   5   6  阳  天  凶  白  蓝   \n",
       "2 2018-12-11  141  22.0  牛  双  绿  小  水   2   2   双  家   3   4  阳  天  凶  黑  绿   \n",
       "3 2018-12-08  140  43.0  龙  单  绿  大  土   4   3   单  野   5   7  阴  天  吉  白  绿   \n",
       "4 2018-12-06  139  34.0  牛  双  红  大  金   3   4   单  家   4   5  阳  天  凶  黑  绿   \n",
       "\n",
       "  笔画 男女  \n",
       "0  双  男  \n",
       "1  双  男  \n",
       "2  双  男  \n",
       "3  单  男  \n",
       "4  双  男  "
      ]
     },
     "execution_count": 8,
     "metadata": {},
     "output_type": "execute_result"
    }
   ],
   "source": [
    "df_now = pd.read_csv(\"data_00_18.csv\").loc[:, \"搅珠日期\":]\n",
    "df_now.搅珠日期 = pd.to_datetime(df_now.搅珠日期)\n",
    "df_now.特码.astype(int)\n",
    "print(df_now.shape)\n",
    "df_now.head()"
   ]
  },
  {
   "cell_type": "code",
   "execution_count": 6,
   "metadata": {
    "collapsed": true
   },
   "outputs": [],
   "source": [
    "def total_no_shows(cat, item):\n",
    "    cat_list = df_now[cat].values.tolist()\n",
    "    \n",
    "    cnt = 0\n",
    "    cnt_list = []\n",
    "    \n",
    "    for i in cat_list:\n",
    "#         print(i, end=\", \")\n",
    "        if i == item:\n",
    "            cnt_list.append(cnt+1)\n",
    "            cnt = 0\n",
    "        else:\n",
    "            cnt += 1\n",
    "    print(item)        \n",
    "    return sorted(cnt_list, reverse=True)[:29]"
   ]
  },
  {
   "cell_type": "code",
   "execution_count": 7,
   "metadata": {
    "collapsed": false
   },
   "outputs": [
    {
     "name": "stdout",
     "output_type": "stream",
     "text": [
      "2000首期～2018年143期：【生肖】连续不出现次数一览\n",
      "鼠\n",
      "[55, 50, 43, 42, 42, 40, 40, 39, 35, 35, 34, 32, 31, 31, 30, 30, 30, 30, 30, 29, 29, 29, 27, 26, 25, 25, 25, 24, 24]\n",
      "牛\n",
      "[117, 67, 62, 61, 61, 59, 53, 50, 43, 43, 41, 38, 37, 35, 34, 34, 32, 31, 30, 30, 29, 28, 28, 27, 27, 27, 27, 26, 25]\n",
      "虎\n",
      "[70, 61, 52, 47, 43, 42, 40, 39, 38, 35, 34, 33, 32, 32, 31, 29, 29, 28, 27, 27, 25, 25, 25, 24, 24, 23, 23, 22, 22]\n",
      "兔\n",
      "[52, 51, 45, 45, 43, 41, 40, 40, 38, 36, 35, 33, 31, 31, 30, 30, 29, 29, 27, 26, 25, 25, 25, 24, 24, 24, 23, 23, 22]\n",
      "龙\n",
      "[62, 51, 47, 47, 44, 40, 40, 39, 38, 38, 37, 37, 35, 33, 33, 32, 32, 32, 32, 29, 29, 27, 26, 26, 26, 26, 26, 25, 24]\n",
      "蛇\n",
      "[102, 70, 46, 46, 44, 44, 42, 41, 41, 40, 39, 38, 38, 37, 36, 35, 35, 34, 34, 33, 29, 28, 27, 27, 27, 23, 23, 23, 23]\n",
      "马\n",
      "[58, 55, 48, 42, 40, 40, 40, 40, 38, 38, 36, 35, 35, 35, 34, 34, 33, 31, 31, 31, 30, 28, 28, 28, 28, 27, 24, 24, 24]\n",
      "羊\n",
      "[53, 50, 46, 41, 41, 41, 40, 37, 37, 37, 35, 33, 33, 33, 32, 32, 31, 31, 31, 31, 30, 29, 29, 29, 28, 27, 26, 25, 24]\n",
      "猴\n",
      "[75, 60, 56, 54, 54, 41, 40, 38, 38, 34, 34, 32, 30, 29, 29, 28, 28, 27, 26, 26, 25, 24, 24, 24, 24, 23, 23, 23, 23]\n",
      "鸡\n",
      "[52, 51, 50, 49, 46, 46, 45, 44, 39, 39, 39, 36, 35, 33, 32, 32, 31, 31, 30, 29, 29, 28, 28, 28, 28, 27, 27, 26, 26]\n",
      "狗\n",
      "[57, 53, 50, 49, 49, 46, 45, 43, 43, 42, 41, 41, 38, 38, 37, 35, 34, 34, 33, 30, 29, 28, 27, 27, 27, 27, 26, 25, 25]\n",
      "猪\n",
      "[76, 70, 65, 55, 53, 47, 46, 44, 44, 43, 41, 40, 37, 35, 32, 31, 31, 30, 30, 29, 29, 28, 27, 27, 27, 27, 26, 26, 26]\n"
     ]
    }
   ],
   "source": [
    "print(\"2000首期～2018年143期：【生肖】连续不出现次数一览\")\n",
    "print(total_no_shows(\"生肖\", \"鼠\"))\n",
    "print(total_no_shows(\"生肖\", \"牛\"))\n",
    "print(total_no_shows(\"生肖\", \"虎\"))\n",
    "print(total_no_shows(\"生肖\", \"兔\"))\n",
    "print(total_no_shows(\"生肖\", \"龙\"))\n",
    "print(total_no_shows(\"生肖\", \"蛇\"))\n",
    "print(total_no_shows(\"生肖\", \"马\"))\n",
    "print(total_no_shows(\"生肖\", \"羊\"))\n",
    "print(total_no_shows(\"生肖\", \"猴\"))\n",
    "print(total_no_shows(\"生肖\", \"鸡\"))\n",
    "print(total_no_shows(\"生肖\", \"狗\"))\n",
    "print(total_no_shows(\"生肖\", \"猪\"))"
   ]
  },
  {
   "cell_type": "markdown",
   "metadata": {},
   "source": [
    "##### 2018年"
   ]
  },
  {
   "cell_type": "code",
   "execution_count": 41,
   "metadata": {
    "collapsed": false
   },
   "outputs": [
    {
     "data": {
      "text/plain": [
       "(143, 21)"
      ]
     },
     "execution_count": 41,
     "metadata": {},
     "output_type": "execute_result"
    }
   ],
   "source": [
    "df = df_now[df_now.搅珠日期 >= pd.Timestamp(2018,1,1)]\n",
    "df.shape"
   ]
  },
  {
   "cell_type": "code",
   "execution_count": 53,
   "metadata": {
    "collapsed": true
   },
   "outputs": [],
   "source": [
    "def no_shows_dict(cat):\n",
    "    \"\"\"\n",
    "    \n",
    "    \"\"\"\n",
    "    item_unique = df[cat].unique().tolist()\n",
    "    item_dict = {}\n",
    "    for item in item_unique:\n",
    "        item_dict[item] = df.loc[df[cat] == item].index[0]\n",
    "    item_dict = sorted(item_dict.items(), key = lambda x:x[1], reverse = True)\n",
    "    print(cat)\n",
    "    return item_dict"
   ]
  },
  {
   "cell_type": "code",
   "execution_count": 108,
   "metadata": {
    "collapsed": false
   },
   "outputs": [
    {
     "name": "stdout",
     "output_type": "stream",
     "text": [
      "2018年度截止143期，没出现的次数一览\n",
      "生肖\n",
      "[('蛇', 35), ('羊', 32), ('狗', 25), ('猪', 17), ('马', 14), ('虎', 12), ('鸡', 11), ('兔', 9), ('鼠', 6), ('龙', 3), ('猴', 1), ('牛', 0)]\n",
      "单双\n",
      "[('单', 1), ('双', 0)]\n",
      "波色\n",
      "[('蓝', 6), ('红', 4), ('绿', 0)]\n",
      "大小\n",
      "[('大', 1), ('小', 0)]\n",
      "五行\n",
      "[('火', 9), ('金', 4), ('土', 3), ('木', 1), ('水', 0)]\n",
      "特头\n",
      "[(0, 15), (1, 5), (4, 3), (3, 1), (2, 0)]\n",
      "尾数\n",
      "[(0, 35), (1, 22), (6, 18), (8, 11), (5, 7), (7, 6), (4, 4), (3, 3), (9, 1), (2, 0)]\n",
      "合单双\n",
      "[('单', 3), ('双', 0)]\n",
      "家野\n",
      "[('野', 1), ('家', 0)]\n",
      "门数\n",
      "[(2, 16), (1, 15), (4, 4), (5, 1), (3, 0)]\n",
      "段位\n",
      "[(1, 24), (2, 15), (3, 5), (5, 4), (7, 3), (6, 1), (4, 0)]\n",
      "阴阳\n",
      "[('阴', 3), ('阳', 0)]\n",
      "天地\n",
      "[('地', 6), ('天', 0)]\n",
      "吉凶\n",
      "[('吉', 3), ('凶', 0)]\n",
      "黑白\n",
      "[('白', 1), ('黑', 0)]\n",
      "色肖\n",
      "[('红', 6), ('蓝', 1), ('绿', 0)]\n",
      "笔画\n",
      "[('单', 3), ('双', 0)]\n",
      "男女\n",
      "[('女', 9), ('男', 0)]\n"
     ]
    }
   ],
   "source": [
    "print(\"2018年度截止143期，没出现的次数一览\")\n",
    "print(no_shows_dict(\"生肖\"))\n",
    "print(no_shows_dict(\"单双\"))\n",
    "print(no_shows_dict(\"波色\"))\n",
    "print(no_shows_dict(\"大小\"))\n",
    "print(no_shows_dict(\"五行\"))\n",
    "print(no_shows_dict(\"特头\"))\n",
    "print(no_shows_dict(\"尾数\"))\n",
    "print(no_shows_dict(\"合单双\"))\n",
    "print(no_shows_dict(\"家野\"))\n",
    "print(no_shows_dict(\"门数\"))\n",
    "print(no_shows_dict(\"段位\"))\n",
    "print(no_shows_dict(\"阴阳\"))\n",
    "print(no_shows_dict(\"天地\"))\n",
    "print(no_shows_dict(\"吉凶\"))\n",
    "print(no_shows_dict(\"黑白\"))\n",
    "print(no_shows_dict(\"色肖\"))\n",
    "print(no_shows_dict(\"笔画\"))\n",
    "print(no_shows_dict(\"男女\"))"
   ]
  },
  {
   "cell_type": "code",
   "execution_count": 42,
   "metadata": {
    "collapsed": false
   },
   "outputs": [
    {
     "data": {
      "image/png": "[encoded data removed]",
      "text/plain": [
       "<Figure size 1000x300 with 1 Axes>"
      ]
     },
     "metadata": {},
     "output_type": "display_data"
    }
   ],
   "source": [
    "def stats_func(x):\n",
    "    \"https://stackoverflow.com/questions/28931224/adding-value-labels-on-a-matplotlib-bar-chart\"\n",
    "    cnt = df[x].value_counts()\n",
    "    fig = plt.figure(figsize=(10, 3))\n",
    "    ax = cnt.plot(kind='bar')\n",
    "    \n",
    "    rects = ax.patches\n",
    "    labels = [\"{}\".format(i) for i in cnt.values.tolist()]\n",
    "    for rect, label in zip(rects, labels):\n",
    "        height = rect.get_height()\n",
    "        ax.text(rect.get_x() + rect.get_width() / 2, height + .5, label,\n",
    "                ha='center', va='bottom', fontsize=12)\n",
    "        \n",
    "    ax.set_xlabel(x)\n",
    "    plt.xticks(rotation=0, fontsize=12)\n",
    "    plt.yticks([])\n",
    "\n",
    "    fig.show()\n",
    "\n",
    "interact(stats_func, x=df.columns[3:].tolist());"
   ]
  },
  {
   "cell_type": "code",
   "execution_count": null,
   "metadata": {
    "collapsed": true
   },
   "outputs": [],
   "source": []
  }
 ],
 "metadata": {
  "kernelspec": {
   "display_name": "Python [Root]",
   "language": "python",
   "name": "Python [Root]"
  },
  "language_info": {
   "codemirror_mode": {
    "name": "ipython",
    "version": 3
   },
   "file_extension": ".py",
   "mimetype": "text/x-python",
   "name": "python",
   "nbconvert_exporter": "python",
   "pygments_lexer": "ipython3",
   "version": "3.5.4"
  },
  "widgets": {
   "state": {
    "468a05963e1d4c828d3da514453b8257": {
     "views": [
      {
       "cell_index": 11
      }
     ]
    }
   },
   "version": "1.2.0"
  }
 },
 "nbformat": 4,
 "nbformat_minor": 2
}
